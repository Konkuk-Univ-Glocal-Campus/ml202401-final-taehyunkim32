{
 "cells": [
  {
   "cell_type": "markdown",
   "metadata": {},
   "source": [
    "프로젝트 설명 및 기본 설정"
   ]
  },
  {
   "cell_type": "code",
   "execution_count": 70,
   "metadata": {},
   "outputs": [
    {
     "name": "stdout",
     "output_type": "stream",
     "text": [
      "c:\\Users\\taehyun\\github-classroom\\Konkuk-Univ-Glocal-Campus\\ml202401-final-taehyunkim32\n"
     ]
    }
   ],
   "source": [
    "import os\n",
    "import matplotlib.pyplot as plt\n",
    "import pandas as pd\n",
    "import seaborn as sns\n",
    "\n",
    "# 경고 메시지 무시\n",
    "import warnings\n",
    "warnings.filterwarnings(\"ignore\")\n",
    "\n",
    "# 한글 폰트 설정\n",
    "import matplotlib.font_manager as fm\n",
    "font_path = './fonts/NanumGothic.ttf'\n",
    "fm.fontManager.addfont(font_path)\n",
    "plt.rcParams['font.family'] = 'NanumGothic'\n",
    "\n",
    "# 현재 작업 경로 확인\n",
    "current_directory = os.getcwd()\n",
    "print(current_directory)"
   ]
  },
  {
   "cell_type": "markdown",
   "metadata": {},
   "source": [
    "1. 데이터 읽고 데이터 구조 확인"
   ]
  },
  {
   "cell_type": "code",
   "execution_count": 71,
   "metadata": {},
   "outputs": [
    {
     "name": "stdout",
     "output_type": "stream",
     "text": [
      "* 총 리뷰 개수: 6823 *\n",
      "<class 'pandas.core.frame.DataFrame'>\n",
      "RangeIndex: 6823 entries, 0 to 6822\n",
      "Data columns (total 11 columns):\n",
      " #   Column             Non-Null Count  Dtype  \n",
      "---  ------             --------------  -----  \n",
      " 0   url                6823 non-null   object \n",
      " 1   product_name       6823 non-null   object \n",
      " 2   reviewer_name      6823 non-null   object \n",
      " 3   review_title       6822 non-null   object \n",
      " 4   review_text        6814 non-null   object \n",
      " 5   review_rating      6823 non-null   float64\n",
      " 6   verified_purchase  6823 non-null   bool   \n",
      " 7   review_date        6823 non-null   object \n",
      " 8   helpful_count      1953 non-null   object \n",
      " 9   uniq_id            6823 non-null   object \n",
      " 10  scraped_at         6823 non-null   object \n",
      "dtypes: bool(1), float64(1), object(9)\n",
      "memory usage: 539.8+ KB\n",
      "None\n"
     ]
    }
   ],
   "source": [
    "raw_df = pd.read_csv(\"./amazon_uk_shoes_products_dataset_2021_12.csv\")\n",
    "print(f\"* 총 리뷰 개수: {raw_df.shape[0]} *\")\n",
    "print(raw_df.info())"
   ]
  },
  {
   "cell_type": "markdown",
   "metadata": {},
   "source": [
    "실제데이터를 확인"
   ]
  },
  {
   "cell_type": "code",
   "execution_count": 72,
   "metadata": {},
   "outputs": [
    {
     "name": "stdout",
     "output_type": "stream",
     "text": [
      "url : https://www.amazon.co.uk/dp/B07SBX32T5\n",
      "product_name : Klasified Women's Transparent Clear Sneaker Shoe, White, 5.5 UK\n",
      "reviewer_name : Jocelyn McSayles\n",
      "review_title : Love em\n",
      "review_text : Love these. Was looking for converses and these were half the price and so unique— I’ve never seen clear shoes like these; they fit great. The plastic takes a little getting used to but the style is so worth it.\n",
      "review_rating : 5.0\n",
      "verified_purchase : True\n",
      "review_date : Reviewed in the United States on 2 June 2020\n",
      "helpful_count : 2 people found this helpful\n",
      "uniq_id : 36eae4e5-2894-5279-a0b7-d2b330e2b814\n",
      "scraped_at : 24/12/2021 02:26:25\n"
     ]
    }
   ],
   "source": [
    "# 첫 번째 행의 열 이름과 값을 출력\n",
    "for column in raw_df.columns:\n",
    "    print(f\"{column} : {raw_df.iloc[0][column]}\")"
   ]
  },
  {
   "cell_type": "markdown",
   "metadata": {},
   "source": [
    "2.데이터 전처리\n",
    "1)중복데이터 제거\n",
    "2)주요 특성 설정\n",
    "3)결측치 제거\n",
    "4)노이즈 제거\n",
    "5)토큰화\n",
    "6)표제어 추출"
   ]
  },
  {
   "cell_type": "markdown",
   "metadata": {},
   "source": [
    "1)중복 데이터 확인 및 제거\n",
    "68~~개였는데 중복된 행의 개수가 364\n",
    "예시 뭐시기"
   ]
  },
  {
   "cell_type": "code",
   "execution_count": 73,
   "metadata": {},
   "outputs": [
    {
     "name": "stdout",
     "output_type": "stream",
     "text": [
      "중복된 행의 개수: 364\n",
      "중복된 uniq_id: d1871977-2e70-5d3d-bcb9-888819c4d0d6\n"
     ]
    },
    {
     "data": {
      "text/html": [
       "<div>\n",
       "<style scoped>\n",
       "    .dataframe tbody tr th:only-of-type {\n",
       "        vertical-align: middle;\n",
       "    }\n",
       "\n",
       "    .dataframe tbody tr th {\n",
       "        vertical-align: top;\n",
       "    }\n",
       "\n",
       "    .dataframe thead th {\n",
       "        text-align: right;\n",
       "    }\n",
       "</style>\n",
       "<table border=\"1\" class=\"dataframe\">\n",
       "  <thead>\n",
       "    <tr style=\"text-align: right;\">\n",
       "      <th></th>\n",
       "      <th>review_title</th>\n",
       "      <th>review_text</th>\n",
       "      <th>review_rating</th>\n",
       "      <th>uniq_id</th>\n",
       "    </tr>\n",
       "  </thead>\n",
       "  <tbody>\n",
       "    <tr>\n",
       "      <th>1002</th>\n",
       "      <td>Per ben due volte taglia errata</td>\n",
       "      <td>Per ben due volte ho dovuto restituire l'artic...</td>\n",
       "      <td>1.0</td>\n",
       "      <td>d1871977-2e70-5d3d-bcb9-888819c4d0d6</td>\n",
       "    </tr>\n",
       "    <tr>\n",
       "      <th>1828</th>\n",
       "      <td>Per ben due volte taglia errata</td>\n",
       "      <td>Per ben due volte ho dovuto restituire l'artic...</td>\n",
       "      <td>1.0</td>\n",
       "      <td>d1871977-2e70-5d3d-bcb9-888819c4d0d6</td>\n",
       "    </tr>\n",
       "  </tbody>\n",
       "</table>\n",
       "</div>"
      ],
      "text/plain": [
       "                         review_title  \\\n",
       "1002  Per ben due volte taglia errata   \n",
       "1828  Per ben due volte taglia errata   \n",
       "\n",
       "                                            review_text  review_rating  \\\n",
       "1002  Per ben due volte ho dovuto restituire l'artic...            1.0   \n",
       "1828  Per ben due volte ho dovuto restituire l'artic...            1.0   \n",
       "\n",
       "                                   uniq_id  \n",
       "1002  d1871977-2e70-5d3d-bcb9-888819c4d0d6  \n",
       "1828  d1871977-2e70-5d3d-bcb9-888819c4d0d6  "
      ]
     },
     "execution_count": 73,
     "metadata": {},
     "output_type": "execute_result"
    }
   ],
   "source": [
    "# uniq_id 열을 기준으로 중복된 행 확인\n",
    "dup = raw_df.duplicated(subset=['uniq_id'], keep=False)\n",
    "\n",
    "# 중복된 행의 개수\n",
    "count_dup = dup.sum()\n",
    "print(f\"중복된 행의 개수: {count_dup}\")\n",
    "\n",
    "# 중복된 uniq_id 예시 추출\n",
    "dup_uniq_id = raw_df['uniq_id'][raw_df['uniq_id'].duplicated()].iloc[0]\n",
    "\n",
    "# 중복된 uniq_id 출력\n",
    "print(f\"중복된 uniq_id: {dup_uniq_id}\")\n",
    "\n",
    "# 중복 리뷰 케이스 확인\n",
    "selected_columns = ['review_title', 'review_text', 'review_rating', 'uniq_id']\n",
    "filtered_rows = raw_df[raw_df['uniq_id'] == dup_uniq_id][selected_columns]\n",
    "\n",
    "# 결과 출력\n",
    "filtered_rows"
   ]
  },
  {
   "cell_type": "markdown",
   "metadata": {},
   "source": [
    "원본 데이터: 6823\n",
    "중복 데이터: 364\n",
    "중복 데이터를 제외한 데이터: 6823 - (364 / 2) = 6641"
   ]
  },
  {
   "cell_type": "code",
   "execution_count": 74,
   "metadata": {},
   "outputs": [
    {
     "name": "stdout",
     "output_type": "stream",
     "text": [
      "중복 데이터를 제외한 행의 개수: 6641\n"
     ]
    }
   ],
   "source": [
    "# uniq_id 열을 기준으로 중복된 행 제거\n",
    "df_unique = raw_df.drop_duplicates(subset=['uniq_id'], keep='first')\n",
    "\n",
    "# 중복이 제거된 총 리뷰의 개수\n",
    "count_unique = len(df_unique)\n",
    "print(f\"중복 데이터를 제외한 행의 개수: {count_unique}\")"
   ]
  },
  {
   "cell_type": "markdown",
   "metadata": {},
   "source": [
    "2)주요 특성 설정\n",
    "`review_title`, `review_text`, `review_rating` 3가지 칼럼을 주요 특성으로 사용"
   ]
  },
  {
   "cell_type": "code",
   "execution_count": 75,
   "metadata": {},
   "outputs": [
    {
     "data": {
      "text/html": [
       "<div>\n",
       "<style scoped>\n",
       "    .dataframe tbody tr th:only-of-type {\n",
       "        vertical-align: middle;\n",
       "    }\n",
       "\n",
       "    .dataframe tbody tr th {\n",
       "        vertical-align: top;\n",
       "    }\n",
       "\n",
       "    .dataframe thead th {\n",
       "        text-align: right;\n",
       "    }\n",
       "</style>\n",
       "<table border=\"1\" class=\"dataframe\">\n",
       "  <thead>\n",
       "    <tr style=\"text-align: right;\">\n",
       "      <th></th>\n",
       "      <th>review_title</th>\n",
       "      <th>review_text</th>\n",
       "      <th>review_rating</th>\n",
       "    </tr>\n",
       "  </thead>\n",
       "  <tbody>\n",
       "    <tr>\n",
       "      <th>0</th>\n",
       "      <td>Love em</td>\n",
       "      <td>Love these. Was looking for converses and thes...</td>\n",
       "      <td>5.0</td>\n",
       "    </tr>\n",
       "    <tr>\n",
       "      <th>1</th>\n",
       "      <td>The plastic ripped</td>\n",
       "      <td>The shoes are very cute, but after the 2nd day...</td>\n",
       "      <td>2.0</td>\n",
       "    </tr>\n",
       "    <tr>\n",
       "      <th>2</th>\n",
       "      <td>Good quality</td>\n",
       "      <td>Good quality</td>\n",
       "      <td>5.0</td>\n",
       "    </tr>\n",
       "    <tr>\n",
       "      <th>3</th>\n",
       "      <td>Good</td>\n",
       "      <td>Great</td>\n",
       "      <td>5.0</td>\n",
       "    </tr>\n",
       "    <tr>\n",
       "      <th>4</th>\n",
       "      <td>PERFETTE!!</td>\n",
       "      <td>Ho scelto il modello bianco con rifinitura die...</td>\n",
       "      <td>5.0</td>\n",
       "    </tr>\n",
       "  </tbody>\n",
       "</table>\n",
       "</div>"
      ],
      "text/plain": [
       "         review_title                                        review_text  \\\n",
       "0             Love em  Love these. Was looking for converses and thes...   \n",
       "1  The plastic ripped  The shoes are very cute, but after the 2nd day...   \n",
       "2        Good quality                                       Good quality   \n",
       "3                Good                                              Great   \n",
       "4          PERFETTE!!  Ho scelto il modello bianco con rifinitura die...   \n",
       "\n",
       "   review_rating  \n",
       "0            5.0  \n",
       "1            2.0  \n",
       "2            5.0  \n",
       "3            5.0  \n",
       "4            5.0  "
      ]
     },
     "execution_count": 75,
     "metadata": {},
     "output_type": "execute_result"
    }
   ],
   "source": [
    "# 사용할 columns 선택\n",
    "df_selected = df_unique[[\"review_title\", \"review_text\", \"review_rating\"]]\n",
    "df_selected.head(5)"
   ]
  },
  {
   "cell_type": "markdown",
   "metadata": {},
   "source": [
    "2)결측치 확인 및 제거"
   ]
  },
  {
   "cell_type": "code",
   "execution_count": 76,
   "metadata": {},
   "outputs": [
    {
     "name": "stdout",
     "output_type": "stream",
     "text": [
      "제목 결측치 개수: 1\n",
      "리뷰 결측치 개수: 8\n",
      "레이팅 결측치 개수: 0\n"
     ]
    }
   ],
   "source": [
    "print(f\"제목 결측치 개수: {df_selected['review_title'].isnull().sum()}\")\n",
    "print(f\"리뷰 결측치 개수: {df_selected['review_text'].isnull().sum()}\")\n",
    "print(f\"레이팅 결측치 개수: {df_selected['review_rating'].isnull().sum()}\")"
   ]
  },
  {
   "cell_type": "markdown",
   "metadata": {},
   "source": [
    "제목, 리뷰에 결측치가 존재하는 행은 제거\n",
    "중복 데이터를 제외한 데이터: 6823\n",
    "결측치가 존재하는 데이터 : 1 + 8 = 9\n",
    "결측치를 제외한 데이터: 6823 - (364 / 2) = 6641"
   ]
  },
  {
   "cell_type": "code",
   "execution_count": 78,
   "metadata": {},
   "outputs": [
    {
     "name": "stdout",
     "output_type": "stream",
     "text": [
      "결측치를 제외한 행의 개수: 6632\n"
     ]
    },
    {
     "data": {
      "text/html": [
       "<div>\n",
       "<style scoped>\n",
       "    .dataframe tbody tr th:only-of-type {\n",
       "        vertical-align: middle;\n",
       "    }\n",
       "\n",
       "    .dataframe tbody tr th {\n",
       "        vertical-align: top;\n",
       "    }\n",
       "\n",
       "    .dataframe thead th {\n",
       "        text-align: right;\n",
       "    }\n",
       "</style>\n",
       "<table border=\"1\" class=\"dataframe\">\n",
       "  <thead>\n",
       "    <tr style=\"text-align: right;\">\n",
       "      <th></th>\n",
       "      <th>review_title</th>\n",
       "      <th>review_text</th>\n",
       "      <th>review_rating</th>\n",
       "    </tr>\n",
       "  </thead>\n",
       "  <tbody>\n",
       "    <tr>\n",
       "      <th>0</th>\n",
       "      <td>Love em</td>\n",
       "      <td>Love these. Was looking for converses and thes...</td>\n",
       "      <td>5.0</td>\n",
       "    </tr>\n",
       "    <tr>\n",
       "      <th>1</th>\n",
       "      <td>The plastic ripped</td>\n",
       "      <td>The shoes are very cute, but after the 2nd day...</td>\n",
       "      <td>2.0</td>\n",
       "    </tr>\n",
       "    <tr>\n",
       "      <th>2</th>\n",
       "      <td>Good quality</td>\n",
       "      <td>Good quality</td>\n",
       "      <td>5.0</td>\n",
       "    </tr>\n",
       "    <tr>\n",
       "      <th>3</th>\n",
       "      <td>Good</td>\n",
       "      <td>Great</td>\n",
       "      <td>5.0</td>\n",
       "    </tr>\n",
       "    <tr>\n",
       "      <th>4</th>\n",
       "      <td>PERFETTE!!</td>\n",
       "      <td>Ho scelto il modello bianco con rifinitura die...</td>\n",
       "      <td>5.0</td>\n",
       "    </tr>\n",
       "  </tbody>\n",
       "</table>\n",
       "</div>"
      ],
      "text/plain": [
       "         review_title                                        review_text  \\\n",
       "0             Love em  Love these. Was looking for converses and thes...   \n",
       "1  The plastic ripped  The shoes are very cute, but after the 2nd day...   \n",
       "2        Good quality                                       Good quality   \n",
       "3                Good                                              Great   \n",
       "4          PERFETTE!!  Ho scelto il modello bianco con rifinitura die...   \n",
       "\n",
       "   review_rating  \n",
       "0            5.0  \n",
       "1            2.0  \n",
       "2            5.0  \n",
       "3            5.0  \n",
       "4            5.0  "
      ]
     },
     "execution_count": 78,
     "metadata": {},
     "output_type": "execute_result"
    }
   ],
   "source": [
    "df_cleaned = df_selected.dropna(subset=[\"review_text\", \"review_title\"])\n",
    "\n",
    "# 결측치가 제거된 총 리뷰의 개수\n",
    "count_cleand = len(df_cleaned)\n",
    "print(f\"결측치를 제외한 행의 개수: {count_cleand}\")"
   ]
  },
  {
   "cell_type": "markdown",
   "metadata": {},
   "source": [
    "전처리함수"
   ]
  },
  {
   "cell_type": "code",
   "execution_count": 82,
   "metadata": {},
   "outputs": [
    {
     "name": "stderr",
     "output_type": "stream",
     "text": [
      "[nltk_data] Downloading package punkt to\n",
      "[nltk_data]     C:\\Users\\taehyun\\AppData\\Roaming\\nltk_data...\n",
      "[nltk_data]   Package punkt is already up-to-date!\n",
      "[nltk_data] Downloading package stopwords to\n",
      "[nltk_data]     C:\\Users\\taehyun\\AppData\\Roaming\\nltk_data...\n",
      "[nltk_data]   Package stopwords is already up-to-date!\n",
      "[nltk_data] Downloading package wordnet to\n",
      "[nltk_data]     C:\\Users\\taehyun\\AppData\\Roaming\\nltk_data...\n",
      "[nltk_data]   Package wordnet is already up-to-date!\n",
      "[nltk_data] Downloading package omw-1.4 to\n",
      "[nltk_data]     C:\\Users\\taehyun\\AppData\\Roaming\\nltk_data...\n"
     ]
    },
    {
     "data": {
      "text/html": [
       "<div>\n",
       "<style scoped>\n",
       "    .dataframe tbody tr th:only-of-type {\n",
       "        vertical-align: middle;\n",
       "    }\n",
       "\n",
       "    .dataframe tbody tr th {\n",
       "        vertical-align: top;\n",
       "    }\n",
       "\n",
       "    .dataframe thead th {\n",
       "        text-align: right;\n",
       "    }\n",
       "</style>\n",
       "<table border=\"1\" class=\"dataframe\">\n",
       "  <thead>\n",
       "    <tr style=\"text-align: right;\">\n",
       "      <th></th>\n",
       "      <th>review_title</th>\n",
       "      <th>review_text</th>\n",
       "      <th>review_rating</th>\n",
       "    </tr>\n",
       "  </thead>\n",
       "  <tbody>\n",
       "    <tr>\n",
       "      <th>0</th>\n",
       "      <td>love em</td>\n",
       "      <td>love looking converse half price unique ive ne...</td>\n",
       "      <td>5.0</td>\n",
       "    </tr>\n",
       "    <tr>\n",
       "      <th>1</th>\n",
       "      <td>plastic ripped</td>\n",
       "      <td>shoe cute nd day wearing tongue started rippin...</td>\n",
       "      <td>2.0</td>\n",
       "    </tr>\n",
       "    <tr>\n",
       "      <th>2</th>\n",
       "      <td>good quality</td>\n",
       "      <td>good quality</td>\n",
       "      <td>5.0</td>\n",
       "    </tr>\n",
       "    <tr>\n",
       "      <th>3</th>\n",
       "      <td>good</td>\n",
       "      <td>great</td>\n",
       "      <td>5.0</td>\n",
       "    </tr>\n",
       "    <tr>\n",
       "      <th>4</th>\n",
       "      <td>perfette</td>\n",
       "      <td>ho scelto il modello bianco con rifinitura die...</td>\n",
       "      <td>5.0</td>\n",
       "    </tr>\n",
       "    <tr>\n",
       "      <th>5</th>\n",
       "      <td>delusione</td>\n",
       "      <td>sono solita comprare scarpe guess e non ho mai...</td>\n",
       "      <td>1.0</td>\n",
       "    </tr>\n",
       "    <tr>\n",
       "      <th>6</th>\n",
       "      <td>molto belle</td>\n",
       "      <td>le scarpe sono molto belle calzano perfettamente</td>\n",
       "      <td>5.0</td>\n",
       "    </tr>\n",
       "    <tr>\n",
       "      <th>7</th>\n",
       "      <td>molto carine e comode</td>\n",
       "      <td>semplicemente perfette io uso plantari su misu...</td>\n",
       "      <td>5.0</td>\n",
       "    </tr>\n",
       "    <tr>\n",
       "      <th>8</th>\n",
       "      <td>bellissimepeccato per il numero</td>\n",
       "      <td>le scarpe sono bellissime arrivate perfetto st...</td>\n",
       "      <td>5.0</td>\n",
       "    </tr>\n",
       "    <tr>\n",
       "      <th>9</th>\n",
       "      <td>scarpe ben realizzate venditore ottimo</td>\n",
       "      <td>le scarpe sono ben fatte e il venditore molto ...</td>\n",
       "      <td>5.0</td>\n",
       "    </tr>\n",
       "  </tbody>\n",
       "</table>\n",
       "</div>"
      ],
      "text/plain": [
       "                             review_title  \\\n",
       "0                                 love em   \n",
       "1                          plastic ripped   \n",
       "2                            good quality   \n",
       "3                                    good   \n",
       "4                                perfette   \n",
       "5                               delusione   \n",
       "6                             molto belle   \n",
       "7                   molto carine e comode   \n",
       "8         bellissimepeccato per il numero   \n",
       "9  scarpe ben realizzate venditore ottimo   \n",
       "\n",
       "                                         review_text  review_rating  \n",
       "0  love looking converse half price unique ive ne...            5.0  \n",
       "1  shoe cute nd day wearing tongue started rippin...            2.0  \n",
       "2                                       good quality            5.0  \n",
       "3                                              great            5.0  \n",
       "4  ho scelto il modello bianco con rifinitura die...            5.0  \n",
       "5  sono solita comprare scarpe guess e non ho mai...            1.0  \n",
       "6   le scarpe sono molto belle calzano perfettamente            5.0  \n",
       "7  semplicemente perfette io uso plantari su misu...            5.0  \n",
       "8  le scarpe sono bellissime arrivate perfetto st...            5.0  \n",
       "9  le scarpe sono ben fatte e il venditore molto ...            5.0  "
      ]
     },
     "execution_count": 82,
     "metadata": {},
     "output_type": "execute_result"
    }
   ],
   "source": [
    "import re\n",
    "from nltk.tokenize import word_tokenize\n",
    "from nltk.corpus import stopwords\n",
    "from nltk.stem import WordNetLemmatizer\n",
    "import nltk\n",
    "\n",
    "# 필요한 NLTK 데이터 다운로드\n",
    "nltk.download('punkt')\n",
    "nltk.download('stopwords')\n",
    "nltk.download('wordnet')\n",
    "nltk.download('omw-1.4')\n",
    "\n",
    "# 전처리 함수 선언\n",
    "def data_preprocessing(contents):\n",
    "    # 노이즈 제거 (소문자로 변환, 숫자 제거, 다중 공백 제거, 특수 문자 제거)\n",
    "    contents = re.sub(r'[^\\w\\s]', '', re.sub(r'\\s+', ' ', re.sub(r'\\d+', '', contents.lower())))\n",
    "\n",
    "    # 토큰화\n",
    "    tokens = word_tokenize(contents)\n",
    "    \n",
    "    # 불용어 제거\n",
    "    stopword = [word for word in tokens if word not in stopwords.words(\"english\")]\n",
    "    \n",
    "    # 표제어 추출\n",
    "    lemmatizer = WordNetLemmatizer()\n",
    "    tokens = [lemmatizer.lemmatize(word) for word in stopword]\n",
    "    \n",
    "    return ' '.join(tokens)\n",
    "\n",
    "# 텍스트 전처리\n",
    "df_cleaned[\"review_text\"] = df_cleaned[\"review_text\"].apply(data_preprocessing)\n",
    "df_cleaned[\"review_title\"] = df_cleaned[\"review_title\"].apply(data_preprocessing)\n",
    "\n",
    "# 전처리 완료\n",
    "df = df_cleaned\n",
    "\n",
    "df.head(10)"
   ]
  },
  {
   "cell_type": "markdown",
   "metadata": {},
   "source": [
    "3. 모델구현\n"
   ]
  },
  {
   "cell_type": "code",
   "execution_count": 87,
   "metadata": {},
   "outputs": [
    {
     "name": "stderr",
     "output_type": "stream",
     "text": [
      "[nltk_data] Downloading package vader_lexicon to\n",
      "[nltk_data]     C:\\Users\\taehyun\\AppData\\Roaming\\nltk_data...\n",
      "[nltk_data]   Package vader_lexicon is already up-to-date!\n"
     ]
    },
    {
     "data": {
      "text/html": [
       "<div>\n",
       "<style scoped>\n",
       "    .dataframe tbody tr th:only-of-type {\n",
       "        vertical-align: middle;\n",
       "    }\n",
       "\n",
       "    .dataframe tbody tr th {\n",
       "        vertical-align: top;\n",
       "    }\n",
       "\n",
       "    .dataframe thead th {\n",
       "        text-align: right;\n",
       "    }\n",
       "</style>\n",
       "<table border=\"1\" class=\"dataframe\">\n",
       "  <thead>\n",
       "    <tr style=\"text-align: right;\">\n",
       "      <th></th>\n",
       "      <th>review_title</th>\n",
       "      <th>review_text</th>\n",
       "      <th>review_rating</th>\n",
       "      <th>title_compound</th>\n",
       "      <th>text_compound</th>\n",
       "    </tr>\n",
       "  </thead>\n",
       "  <tbody>\n",
       "    <tr>\n",
       "      <th>0</th>\n",
       "      <td>love em</td>\n",
       "      <td>love looking converse half price unique ive ne...</td>\n",
       "      <td>5.0</td>\n",
       "      <td>0.6369</td>\n",
       "      <td>0.9188</td>\n",
       "    </tr>\n",
       "    <tr>\n",
       "      <th>1</th>\n",
       "      <td>plastic ripped</td>\n",
       "      <td>shoe cute nd day wearing tongue started rippin...</td>\n",
       "      <td>2.0</td>\n",
       "      <td>0.0000</td>\n",
       "      <td>0.2240</td>\n",
       "    </tr>\n",
       "    <tr>\n",
       "      <th>2</th>\n",
       "      <td>good quality</td>\n",
       "      <td>good quality</td>\n",
       "      <td>5.0</td>\n",
       "      <td>0.4404</td>\n",
       "      <td>0.4404</td>\n",
       "    </tr>\n",
       "    <tr>\n",
       "      <th>3</th>\n",
       "      <td>good</td>\n",
       "      <td>great</td>\n",
       "      <td>5.0</td>\n",
       "      <td>0.4404</td>\n",
       "      <td>0.6249</td>\n",
       "    </tr>\n",
       "    <tr>\n",
       "      <th>4</th>\n",
       "      <td>perfette</td>\n",
       "      <td>ho scelto il modello bianco con rifinitura die...</td>\n",
       "      <td>5.0</td>\n",
       "      <td>0.0000</td>\n",
       "      <td>-0.4588</td>\n",
       "    </tr>\n",
       "    <tr>\n",
       "      <th>...</th>\n",
       "      <td>...</td>\n",
       "      <td>...</td>\n",
       "      <td>...</td>\n",
       "      <td>...</td>\n",
       "      <td>...</td>\n",
       "    </tr>\n",
       "    <tr>\n",
       "      <th>6818</th>\n",
       "      <td>schick und leicht</td>\n",
       "      <td>schicker schuh läuft sich gut</td>\n",
       "      <td>5.0</td>\n",
       "      <td>0.0000</td>\n",
       "      <td>0.0000</td>\n",
       "    </tr>\n",
       "    <tr>\n",
       "      <th>6819</th>\n",
       "      <td>excellent</td>\n",
       "      <td>mieux que je ne limaginais très bonne taille b...</td>\n",
       "      <td>5.0</td>\n",
       "      <td>0.5719</td>\n",
       "      <td>0.0000</td>\n",
       "    </tr>\n",
       "    <tr>\n",
       "      <th>6820</th>\n",
       "      <td>einfach schöne hausschuhe</td>\n",
       "      <td>habe sie al geschenk gekauft und sie sind sehr...</td>\n",
       "      <td>5.0</td>\n",
       "      <td>0.0000</td>\n",
       "      <td>0.5994</td>\n",
       "    </tr>\n",
       "    <tr>\n",
       "      <th>6821</th>\n",
       "      <td>langlebig</td>\n",
       "      <td>trage diese hausschuhe fast zwei monate jeden ...</td>\n",
       "      <td>5.0</td>\n",
       "      <td>0.0000</td>\n",
       "      <td>-0.7845</td>\n",
       "    </tr>\n",
       "    <tr>\n",
       "      <th>6822</th>\n",
       "      <td>hausschuhe für lange kalte winterzeiten</td>\n",
       "      <td>die hausschuhe sind sehr warm und tolle leder ...</td>\n",
       "      <td>5.0</td>\n",
       "      <td>0.0000</td>\n",
       "      <td>-0.4588</td>\n",
       "    </tr>\n",
       "  </tbody>\n",
       "</table>\n",
       "<p>6632 rows × 5 columns</p>\n",
       "</div>"
      ],
      "text/plain": [
       "                                 review_title  \\\n",
       "0                                     love em   \n",
       "1                              plastic ripped   \n",
       "2                                good quality   \n",
       "3                                        good   \n",
       "4                                    perfette   \n",
       "...                                       ...   \n",
       "6818                        schick und leicht   \n",
       "6819                                excellent   \n",
       "6820                einfach schöne hausschuhe   \n",
       "6821                                langlebig   \n",
       "6822  hausschuhe für lange kalte winterzeiten   \n",
       "\n",
       "                                            review_text  review_rating  \\\n",
       "0     love looking converse half price unique ive ne...            5.0   \n",
       "1     shoe cute nd day wearing tongue started rippin...            2.0   \n",
       "2                                          good quality            5.0   \n",
       "3                                                 great            5.0   \n",
       "4     ho scelto il modello bianco con rifinitura die...            5.0   \n",
       "...                                                 ...            ...   \n",
       "6818                      schicker schuh läuft sich gut            5.0   \n",
       "6819  mieux que je ne limaginais très bonne taille b...            5.0   \n",
       "6820  habe sie al geschenk gekauft und sie sind sehr...            5.0   \n",
       "6821  trage diese hausschuhe fast zwei monate jeden ...            5.0   \n",
       "6822  die hausschuhe sind sehr warm und tolle leder ...            5.0   \n",
       "\n",
       "      title_compound  text_compound  \n",
       "0             0.6369         0.9188  \n",
       "1             0.0000         0.2240  \n",
       "2             0.4404         0.4404  \n",
       "3             0.4404         0.6249  \n",
       "4             0.0000        -0.4588  \n",
       "...              ...            ...  \n",
       "6818          0.0000         0.0000  \n",
       "6819          0.5719         0.0000  \n",
       "6820          0.0000         0.5994  \n",
       "6821          0.0000        -0.7845  \n",
       "6822          0.0000        -0.4588  \n",
       "\n",
       "[6632 rows x 5 columns]"
      ]
     },
     "execution_count": 87,
     "metadata": {},
     "output_type": "execute_result"
    }
   ],
   "source": [
    "from nltk.sentiment.vader import SentimentIntensityAnalyzer\n",
    "\n",
    "# NLTK 패키지 다운로드\n",
    "nltk.download(\"vader_lexicon\")\n",
    "\n",
    "# VADER 감성 분석기 초기화\n",
    "vader_sentiment = SentimentIntensityAnalyzer()\n",
    "\n",
    "# 감성 계산 함수 선언\n",
    "def calc_sentiment(review): \n",
    "    # VADER 감성 분석기를 사용하여 'compound' 스코어를 반환\n",
    "    return vader_sentiment.polarity_scores(review)[\"compound\"]\n",
    "\n",
    "# 감성 점수 계산 및 데이터 프레임에 추가\n",
    "# review_title과 review_text에 calc_sentiment 함수를 적용 후 결과를 df에 추가\n",
    "df[\"title_compound\"] = df.review_title.apply(calc_sentiment)\n",
    "df[\"text_compound\"] = df.review_text.apply(calc_sentiment)\n",
    "\n",
    "df"
   ]
  },
  {
   "cell_type": "code",
   "execution_count": 88,
   "metadata": {},
   "outputs": [
    {
     "data": {
      "text/html": [
       "<div>\n",
       "<style scoped>\n",
       "    .dataframe tbody tr th:only-of-type {\n",
       "        vertical-align: middle;\n",
       "    }\n",
       "\n",
       "    .dataframe tbody tr th {\n",
       "        vertical-align: top;\n",
       "    }\n",
       "\n",
       "    .dataframe thead th {\n",
       "        text-align: right;\n",
       "    }\n",
       "</style>\n",
       "<table border=\"1\" class=\"dataframe\">\n",
       "  <thead>\n",
       "    <tr style=\"text-align: right;\">\n",
       "      <th></th>\n",
       "      <th>review_title</th>\n",
       "      <th>review_text</th>\n",
       "      <th>review_rating</th>\n",
       "      <th>Sentiment_Score</th>\n",
       "    </tr>\n",
       "  </thead>\n",
       "  <tbody>\n",
       "    <tr>\n",
       "      <th>0</th>\n",
       "      <td>love em</td>\n",
       "      <td>love looking converse half price unique ive ne...</td>\n",
       "      <td>5.0</td>\n",
       "      <td>0.77785</td>\n",
       "    </tr>\n",
       "    <tr>\n",
       "      <th>1</th>\n",
       "      <td>plastic ripped</td>\n",
       "      <td>shoe cute nd day wearing tongue started rippin...</td>\n",
       "      <td>2.0</td>\n",
       "      <td>0.11200</td>\n",
       "    </tr>\n",
       "    <tr>\n",
       "      <th>2</th>\n",
       "      <td>good quality</td>\n",
       "      <td>good quality</td>\n",
       "      <td>5.0</td>\n",
       "      <td>0.44040</td>\n",
       "    </tr>\n",
       "    <tr>\n",
       "      <th>3</th>\n",
       "      <td>good</td>\n",
       "      <td>great</td>\n",
       "      <td>5.0</td>\n",
       "      <td>0.53265</td>\n",
       "    </tr>\n",
       "    <tr>\n",
       "      <th>4</th>\n",
       "      <td>perfette</td>\n",
       "      <td>ho scelto il modello bianco con rifinitura die...</td>\n",
       "      <td>5.0</td>\n",
       "      <td>-0.22940</td>\n",
       "    </tr>\n",
       "    <tr>\n",
       "      <th>5</th>\n",
       "      <td>delusione</td>\n",
       "      <td>sono solita comprare scarpe guess e non ho mai...</td>\n",
       "      <td>1.0</td>\n",
       "      <td>0.00000</td>\n",
       "    </tr>\n",
       "    <tr>\n",
       "      <th>6</th>\n",
       "      <td>molto belle</td>\n",
       "      <td>le scarpe sono molto belle calzano perfettamente</td>\n",
       "      <td>5.0</td>\n",
       "      <td>0.00000</td>\n",
       "    </tr>\n",
       "    <tr>\n",
       "      <th>7</th>\n",
       "      <td>molto carine e comode</td>\n",
       "      <td>semplicemente perfette io uso plantari su misu...</td>\n",
       "      <td>5.0</td>\n",
       "      <td>0.00000</td>\n",
       "    </tr>\n",
       "    <tr>\n",
       "      <th>8</th>\n",
       "      <td>bellissimepeccato per il numero</td>\n",
       "      <td>le scarpe sono bellissime arrivate perfetto st...</td>\n",
       "      <td>5.0</td>\n",
       "      <td>0.00000</td>\n",
       "    </tr>\n",
       "    <tr>\n",
       "      <th>9</th>\n",
       "      <td>scarpe ben realizzate venditore ottimo</td>\n",
       "      <td>le scarpe sono ben fatte e il venditore molto ...</td>\n",
       "      <td>5.0</td>\n",
       "      <td>0.17000</td>\n",
       "    </tr>\n",
       "  </tbody>\n",
       "</table>\n",
       "</div>"
      ],
      "text/plain": [
       "                             review_title  \\\n",
       "0                                 love em   \n",
       "1                          plastic ripped   \n",
       "2                            good quality   \n",
       "3                                    good   \n",
       "4                                perfette   \n",
       "5                               delusione   \n",
       "6                             molto belle   \n",
       "7                   molto carine e comode   \n",
       "8         bellissimepeccato per il numero   \n",
       "9  scarpe ben realizzate venditore ottimo   \n",
       "\n",
       "                                         review_text  review_rating  \\\n",
       "0  love looking converse half price unique ive ne...            5.0   \n",
       "1  shoe cute nd day wearing tongue started rippin...            2.0   \n",
       "2                                       good quality            5.0   \n",
       "3                                              great            5.0   \n",
       "4  ho scelto il modello bianco con rifinitura die...            5.0   \n",
       "5  sono solita comprare scarpe guess e non ho mai...            1.0   \n",
       "6   le scarpe sono molto belle calzano perfettamente            5.0   \n",
       "7  semplicemente perfette io uso plantari su misu...            5.0   \n",
       "8  le scarpe sono bellissime arrivate perfetto st...            5.0   \n",
       "9  le scarpe sono ben fatte e il venditore molto ...            5.0   \n",
       "\n",
       "   Sentiment_Score  \n",
       "0          0.77785  \n",
       "1          0.11200  \n",
       "2          0.44040  \n",
       "3          0.53265  \n",
       "4         -0.22940  \n",
       "5          0.00000  \n",
       "6          0.00000  \n",
       "7          0.00000  \n",
       "8          0.00000  \n",
       "9          0.17000  "
      ]
     },
     "execution_count": 88,
     "metadata": {},
     "output_type": "execute_result"
    }
   ],
   "source": [
    "# title_compound와 text_compound의 평균을 계산하여 Sentiment_Score 칼럼에 추가\n",
    "df[\"Sentiment_Score\"] = (df[\"title_compound\"] + df[\"text_compound\"]) / 2\n",
    "\n",
    "df[[\"review_title\", \"review_text\", \"review_rating\", \"Sentiment_Score\"]].head(10)"
   ]
  },
  {
   "cell_type": "code",
   "execution_count": 102,
   "metadata": {},
   "outputs": [
    {
     "data": {
      "text/html": [
       "<div>\n",
       "<style scoped>\n",
       "    .dataframe tbody tr th:only-of-type {\n",
       "        vertical-align: middle;\n",
       "    }\n",
       "\n",
       "    .dataframe tbody tr th {\n",
       "        vertical-align: top;\n",
       "    }\n",
       "\n",
       "    .dataframe thead th {\n",
       "        text-align: right;\n",
       "    }\n",
       "</style>\n",
       "<table border=\"1\" class=\"dataframe\">\n",
       "  <thead>\n",
       "    <tr style=\"text-align: right;\">\n",
       "      <th></th>\n",
       "      <th>review_title</th>\n",
       "      <th>review_text</th>\n",
       "      <th>review_rating</th>\n",
       "      <th>Sentiment_Score</th>\n",
       "      <th>label</th>\n",
       "    </tr>\n",
       "  </thead>\n",
       "  <tbody>\n",
       "    <tr>\n",
       "      <th>0</th>\n",
       "      <td>love em</td>\n",
       "      <td>love looking converse half price unique ive ne...</td>\n",
       "      <td>5.0</td>\n",
       "      <td>0.77785</td>\n",
       "      <td>1</td>\n",
       "    </tr>\n",
       "    <tr>\n",
       "      <th>1</th>\n",
       "      <td>plastic ripped</td>\n",
       "      <td>shoe cute nd day wearing tongue started rippin...</td>\n",
       "      <td>2.0</td>\n",
       "      <td>0.11200</td>\n",
       "      <td>1</td>\n",
       "    </tr>\n",
       "    <tr>\n",
       "      <th>2</th>\n",
       "      <td>good quality</td>\n",
       "      <td>good quality</td>\n",
       "      <td>5.0</td>\n",
       "      <td>0.44040</td>\n",
       "      <td>1</td>\n",
       "    </tr>\n",
       "    <tr>\n",
       "      <th>3</th>\n",
       "      <td>good</td>\n",
       "      <td>great</td>\n",
       "      <td>5.0</td>\n",
       "      <td>0.53265</td>\n",
       "      <td>1</td>\n",
       "    </tr>\n",
       "    <tr>\n",
       "      <th>4</th>\n",
       "      <td>perfette</td>\n",
       "      <td>ho scelto il modello bianco con rifinitura die...</td>\n",
       "      <td>5.0</td>\n",
       "      <td>-0.22940</td>\n",
       "      <td>0</td>\n",
       "    </tr>\n",
       "    <tr>\n",
       "      <th>5</th>\n",
       "      <td>delusione</td>\n",
       "      <td>sono solita comprare scarpe guess e non ho mai...</td>\n",
       "      <td>1.0</td>\n",
       "      <td>0.00000</td>\n",
       "      <td>1</td>\n",
       "    </tr>\n",
       "    <tr>\n",
       "      <th>6</th>\n",
       "      <td>molto belle</td>\n",
       "      <td>le scarpe sono molto belle calzano perfettamente</td>\n",
       "      <td>5.0</td>\n",
       "      <td>0.00000</td>\n",
       "      <td>1</td>\n",
       "    </tr>\n",
       "    <tr>\n",
       "      <th>7</th>\n",
       "      <td>molto carine e comode</td>\n",
       "      <td>semplicemente perfette io uso plantari su misu...</td>\n",
       "      <td>5.0</td>\n",
       "      <td>0.00000</td>\n",
       "      <td>1</td>\n",
       "    </tr>\n",
       "    <tr>\n",
       "      <th>8</th>\n",
       "      <td>bellissimepeccato per il numero</td>\n",
       "      <td>le scarpe sono bellissime arrivate perfetto st...</td>\n",
       "      <td>5.0</td>\n",
       "      <td>0.00000</td>\n",
       "      <td>1</td>\n",
       "    </tr>\n",
       "    <tr>\n",
       "      <th>9</th>\n",
       "      <td>scarpe ben realizzate venditore ottimo</td>\n",
       "      <td>le scarpe sono ben fatte e il venditore molto ...</td>\n",
       "      <td>5.0</td>\n",
       "      <td>0.17000</td>\n",
       "      <td>1</td>\n",
       "    </tr>\n",
       "  </tbody>\n",
       "</table>\n",
       "</div>"
      ],
      "text/plain": [
       "                             review_title  \\\n",
       "0                                 love em   \n",
       "1                          plastic ripped   \n",
       "2                            good quality   \n",
       "3                                    good   \n",
       "4                                perfette   \n",
       "5                               delusione   \n",
       "6                             molto belle   \n",
       "7                   molto carine e comode   \n",
       "8         bellissimepeccato per il numero   \n",
       "9  scarpe ben realizzate venditore ottimo   \n",
       "\n",
       "                                         review_text  review_rating  \\\n",
       "0  love looking converse half price unique ive ne...            5.0   \n",
       "1  shoe cute nd day wearing tongue started rippin...            2.0   \n",
       "2                                       good quality            5.0   \n",
       "3                                              great            5.0   \n",
       "4  ho scelto il modello bianco con rifinitura die...            5.0   \n",
       "5  sono solita comprare scarpe guess e non ho mai...            1.0   \n",
       "6   le scarpe sono molto belle calzano perfettamente            5.0   \n",
       "7  semplicemente perfette io uso plantari su misu...            5.0   \n",
       "8  le scarpe sono bellissime arrivate perfetto st...            5.0   \n",
       "9  le scarpe sono ben fatte e il venditore molto ...            5.0   \n",
       "\n",
       "   Sentiment_Score  label  \n",
       "0          0.77785      1  \n",
       "1          0.11200      1  \n",
       "2          0.44040      1  \n",
       "3          0.53265      1  \n",
       "4         -0.22940      0  \n",
       "5          0.00000      1  \n",
       "6          0.00000      1  \n",
       "7          0.00000      1  \n",
       "8          0.00000      1  \n",
       "9          0.17000      1  "
      ]
     },
     "execution_count": 102,
     "metadata": {},
     "output_type": "execute_result"
    }
   ],
   "source": [
    "# Sentiment_Score 점수를 기준으로 감성 레이블 생성 (긍정 1, 부정 0)\n",
    "def sentiment_label(score):\n",
    "    if score >= 0:\n",
    "        return 1\n",
    "    else:\n",
    "        return 0\n",
    "\n",
    "df[\"label\"] = df[\"Sentiment_Score\"].apply(sentiment_label)\n",
    "\n",
    "df[[\"review_title\", \"review_text\", \"review_rating\", \"Sentiment_Score\", \"label\"]].head(10)"
   ]
  },
  {
   "cell_type": "markdown",
   "metadata": {},
   "source": [
    "오실패함"
   ]
  },
  {
   "cell_type": "code",
   "execution_count": 100,
   "metadata": {},
   "outputs": [
    {
     "data": {
      "image/png": "[encoded data removed]",
      "text/plain": [
       "<Figure size 1100x600 with 1 Axes>"
      ]
     },
     "metadata": {},
     "output_type": "display_data"
    }
   ],
   "source": [
    "# 긍정, 부정 라벨 데이터 분리\n",
    "positive = df[df['label'] == 1]['review_rating']\n",
    "negative = df[df['label'] == 0]['review_rating']\n",
    "\n",
    "# 히스토그램 설정\n",
    "plt.figure(figsize=(11, 6))\n",
    "\n",
    "plt.hist([positive, negative], bins=range(1, 7), label=[\"Positive\", \"Negative\"], color=['blue', 'red'],alpha=0.5, edgecolor='black', align='left')\n",
    "plt.legend(loc=\"upper left\")\n",
    "plt.grid(axis='y')\n",
    "\n",
    "plt.show()"
   ]
  },
  {
   "cell_type": "markdown",
   "metadata": {},
   "source": [
    "Sentiment_Score는 -1에서 1까지 인것을 확인 할 수 있다."
   ]
  },
  {
   "cell_type": "code",
   "execution_count": 108,
   "metadata": {},
   "outputs": [
    {
     "name": "stdout",
     "output_type": "stream",
     "text": [
      "-0.8726\n",
      "0.9601500000000001\n"
     ]
    }
   ],
   "source": [
    "# 최저 Sentiment_Score\n",
    "print(df['Sentiment_Score'].min())\n",
    "\n",
    "# 최고 Sentiment_Score\n",
    "print(df['Sentiment_Score'].max())"
   ]
  },
  {
   "cell_type": "markdown",
   "metadata": {},
   "source": [
    "great kind super와 같이 긍정적인 단어가 보인 리뷰에서는 높은 점수를 받았습니다."
   ]
  },
  {
   "cell_type": "code",
   "execution_count": 110,
   "metadata": {},
   "outputs": [
    {
     "data": {
      "text/html": [
       "<div>\n",
       "<style scoped>\n",
       "    .dataframe tbody tr th:only-of-type {\n",
       "        vertical-align: middle;\n",
       "    }\n",
       "\n",
       "    .dataframe tbody tr th {\n",
       "        vertical-align: top;\n",
       "    }\n",
       "\n",
       "    .dataframe thead th {\n",
       "        text-align: right;\n",
       "    }\n",
       "</style>\n",
       "<table border=\"1\" class=\"dataframe\">\n",
       "  <thead>\n",
       "    <tr style=\"text-align: right;\">\n",
       "      <th></th>\n",
       "      <th>review_title</th>\n",
       "      <th>review_text</th>\n",
       "      <th>review_rating</th>\n",
       "      <th>title_compound</th>\n",
       "      <th>text_compound</th>\n",
       "      <th>Sentiment_Score</th>\n",
       "      <th>label</th>\n",
       "    </tr>\n",
       "  </thead>\n",
       "  <tbody>\n",
       "    <tr>\n",
       "      <th>5427</th>\n",
       "      <td>great shoe great price fit kind weird</td>\n",
       "      <td>great shoe little surprised got shoe noticed g...</td>\n",
       "      <td>4.0</td>\n",
       "      <td>0.9246</td>\n",
       "      <td>0.9957</td>\n",
       "      <td>0.96015</td>\n",
       "      <td>1</td>\n",
       "    </tr>\n",
       "    <tr>\n",
       "      <th>553</th>\n",
       "      <td>super comfortable stylish great quality easy c...</td>\n",
       "      <td>wider foot fit great super comfortable easy wa...</td>\n",
       "      <td>5.0</td>\n",
       "      <td>0.9509</td>\n",
       "      <td>0.9618</td>\n",
       "      <td>0.95635</td>\n",
       "      <td>1</td>\n",
       "    </tr>\n",
       "    <tr>\n",
       "      <th>2320</th>\n",
       "      <td>love love love</td>\n",
       "      <td>usually wear based review ordered half size sm...</td>\n",
       "      <td>5.0</td>\n",
       "      <td>0.9274</td>\n",
       "      <td>0.9831</td>\n",
       "      <td>0.95525</td>\n",
       "      <td>1</td>\n",
       "    </tr>\n",
       "    <tr>\n",
       "      <th>3900</th>\n",
       "      <td>comfortable great support awesome value</td>\n",
       "      <td>arrived speak durability yet im thrilled shoe ...</td>\n",
       "      <td>5.0</td>\n",
       "      <td>0.9485</td>\n",
       "      <td>0.9566</td>\n",
       "      <td>0.95255</td>\n",
       "      <td>1</td>\n",
       "    </tr>\n",
       "    <tr>\n",
       "      <th>5840</th>\n",
       "      <td>perfect fit amazing quality comfort</td>\n",
       "      <td>awesome highquality comfortable shoe cant say ...</td>\n",
       "      <td>5.0</td>\n",
       "      <td>0.9100</td>\n",
       "      <td>0.9914</td>\n",
       "      <td>0.95070</td>\n",
       "      <td>1</td>\n",
       "    </tr>\n",
       "  </tbody>\n",
       "</table>\n",
       "</div>"
      ],
      "text/plain": [
       "                                           review_title  \\\n",
       "5427              great shoe great price fit kind weird   \n",
       "553   super comfortable stylish great quality easy c...   \n",
       "2320                                     love love love   \n",
       "3900            comfortable great support awesome value   \n",
       "5840                perfect fit amazing quality comfort   \n",
       "\n",
       "                                            review_text  review_rating  \\\n",
       "5427  great shoe little surprised got shoe noticed g...            4.0   \n",
       "553   wider foot fit great super comfortable easy wa...            5.0   \n",
       "2320  usually wear based review ordered half size sm...            5.0   \n",
       "3900  arrived speak durability yet im thrilled shoe ...            5.0   \n",
       "5840  awesome highquality comfortable shoe cant say ...            5.0   \n",
       "\n",
       "      title_compound  text_compound  Sentiment_Score  label  \n",
       "5427          0.9246         0.9957          0.96015      1  \n",
       "553           0.9509         0.9618          0.95635      1  \n",
       "2320          0.9274         0.9831          0.95525      1  \n",
       "3900          0.9485         0.9566          0.95255      1  \n",
       "5840          0.9100         0.9914          0.95070      1  "
      ]
     },
     "execution_count": 110,
     "metadata": {},
     "output_type": "execute_result"
    }
   ],
   "source": [
    "# Sentiment_Score 높은 순\n",
    "df.sort_values(by='Sentiment_Score', ascending=False).head(5)"
   ]
  },
  {
   "cell_type": "markdown",
   "metadata": {},
   "source": [
    "die와 같이 부정적인 단어가 보인 리뷰에서는 낮은 점수를 받았습니다.\n",
    "\n",
    "*리뷰가 영어로 적혀있지 않은 것으로 보이나 영어로 판독하여 부정적인 결과가 나온 것 같습니다.*"
   ]
  },
  {
   "cell_type": "code",
   "execution_count": 111,
   "metadata": {},
   "outputs": [
    {
     "data": {
      "text/html": [
       "<div>\n",
       "<style scoped>\n",
       "    .dataframe tbody tr th:only-of-type {\n",
       "        vertical-align: middle;\n",
       "    }\n",
       "\n",
       "    .dataframe tbody tr th {\n",
       "        vertical-align: top;\n",
       "    }\n",
       "\n",
       "    .dataframe thead th {\n",
       "        text-align: right;\n",
       "    }\n",
       "</style>\n",
       "<table border=\"1\" class=\"dataframe\">\n",
       "  <thead>\n",
       "    <tr style=\"text-align: right;\">\n",
       "      <th></th>\n",
       "      <th>review_title</th>\n",
       "      <th>review_text</th>\n",
       "      <th>review_rating</th>\n",
       "      <th>title_compound</th>\n",
       "      <th>text_compound</th>\n",
       "      <th>Sentiment_Score</th>\n",
       "      <th>label</th>\n",
       "    </tr>\n",
       "  </thead>\n",
       "  <tbody>\n",
       "    <tr>\n",
       "      <th>5263</th>\n",
       "      <td>die bequemsten schuhe die ich jemals getragen ...</td>\n",
       "      <td>auf der suche nach bequemen sneakern sind mir ...</td>\n",
       "      <td>5.0</td>\n",
       "      <td>-0.8316</td>\n",
       "      <td>-0.9136</td>\n",
       "      <td>-0.87260</td>\n",
       "      <td>0</td>\n",
       "    </tr>\n",
       "    <tr>\n",
       "      <th>2103</th>\n",
       "      <td>die qualität hat extrem nachgelassen</td>\n",
       "      <td>ich habe zwei jacken bestellt farben limette u...</td>\n",
       "      <td>1.0</td>\n",
       "      <td>-0.5994</td>\n",
       "      <td>-0.9955</td>\n",
       "      <td>-0.79745</td>\n",
       "      <td>0</td>\n",
       "    </tr>\n",
       "    <tr>\n",
       "      <th>2108</th>\n",
       "      <td>nicht dicht vorsicht achtet drauf wer die stie...</td>\n",
       "      <td>wir sind sehr enttäuscht die stiefel x angehab...</td>\n",
       "      <td>1.0</td>\n",
       "      <td>-0.5994</td>\n",
       "      <td>-0.9661</td>\n",
       "      <td>-0.78275</td>\n",
       "      <td>0</td>\n",
       "    </tr>\n",
       "    <tr>\n",
       "      <th>2961</th>\n",
       "      <td>die dicke sohle ist sehr gelenkfreundlich mein...</td>\n",
       "      <td>ich habe mir gedacht das diese schuhe eine gut...</td>\n",
       "      <td>5.0</td>\n",
       "      <td>-0.5994</td>\n",
       "      <td>-0.9601</td>\n",
       "      <td>-0.77975</td>\n",
       "      <td>0</td>\n",
       "    </tr>\n",
       "    <tr>\n",
       "      <th>4993</th>\n",
       "      <td>endlich ein idealer winterschuh auch für frau ...</td>\n",
       "      <td>al berufspendler der täglich lange zeit mit öf...</td>\n",
       "      <td>4.0</td>\n",
       "      <td>-0.5994</td>\n",
       "      <td>-0.9565</td>\n",
       "      <td>-0.77795</td>\n",
       "      <td>0</td>\n",
       "    </tr>\n",
       "  </tbody>\n",
       "</table>\n",
       "</div>"
      ],
      "text/plain": [
       "                                           review_title  \\\n",
       "5263  die bequemsten schuhe die ich jemals getragen ...   \n",
       "2103               die qualität hat extrem nachgelassen   \n",
       "2108  nicht dicht vorsicht achtet drauf wer die stie...   \n",
       "2961  die dicke sohle ist sehr gelenkfreundlich mein...   \n",
       "4993  endlich ein idealer winterschuh auch für frau ...   \n",
       "\n",
       "                                            review_text  review_rating  \\\n",
       "5263  auf der suche nach bequemen sneakern sind mir ...            5.0   \n",
       "2103  ich habe zwei jacken bestellt farben limette u...            1.0   \n",
       "2108  wir sind sehr enttäuscht die stiefel x angehab...            1.0   \n",
       "2961  ich habe mir gedacht das diese schuhe eine gut...            5.0   \n",
       "4993  al berufspendler der täglich lange zeit mit öf...            4.0   \n",
       "\n",
       "      title_compound  text_compound  Sentiment_Score  label  \n",
       "5263         -0.8316        -0.9136         -0.87260      0  \n",
       "2103         -0.5994        -0.9955         -0.79745      0  \n",
       "2108         -0.5994        -0.9661         -0.78275      0  \n",
       "2961         -0.5994        -0.9601         -0.77975      0  \n",
       "4993         -0.5994        -0.9565         -0.77795      0  "
      ]
     },
     "execution_count": 111,
     "metadata": {},
     "output_type": "execute_result"
    }
   ],
   "source": [
    "# Sentiment_Score 낮은 순\n",
    "df.sort_values(by='Sentiment_Score').head(5)"
   ]
  },
  {
   "cell_type": "markdown",
   "metadata": {},
   "source": [
    "잘못 예측될만한 상황이 있음에도 불구하고 생각보다 높은 정확성을 보였다.\n",
    "약 80퍼센트의 정확성을 띄는 것을 알 수 있다."
   ]
  },
  {
   "cell_type": "code",
   "execution_count": 113,
   "metadata": {},
   "outputs": [
    {
     "name": "stdout",
     "output_type": "stream",
     "text": [
      "정확한 분석 :  5450\n",
      "비정확한 분석 :  1182\n"
     ]
    }
   ],
   "source": [
    "# Sentiment_Score와 review_rating 매칭 함수 선언\n",
    "good = 0\n",
    "bad = 0\n",
    "\n",
    "for i in range(len(df)):\n",
    "    if (df.iloc[i, 2] >= 3.0 and df.iloc[i, 6] == 1) or (df.iloc[i, 2] < 3.0 and df.iloc[i, 6] == 0):\n",
    "        good += 1\n",
    "    else:\n",
    "        bad += 1\n",
    "\n",
    "# 결과 출력\n",
    "print(\"정확한 분석 : \", good)\n",
    "print(\"비정확한 분석 : \", bad)"
   ]
  },
  {
   "cell_type": "markdown",
   "metadata": {},
   "source": [
    "4.모델 학습 및 튜닝"
   ]
  },
  {
   "cell_type": "code",
   "execution_count": 118,
   "metadata": {},
   "outputs": [],
   "source": [
    "# 필요한 sklearn 패키지 설치\n",
    "from sklearn.feature_extraction.text import TfidfVectorizer\n",
    "from sklearn.model_selection import train_test_split\n",
    "from sklearn.linear_model import LogisticRegression\n",
    "from sklearn.model_selection import GridSearchCV\n",
    "from sklearn.metrics import accuracy_score, precision_score, recall_score, f1_score, roc_auc_score, roc_curve, auc\n",
    "from sklearn.metrics import confusion_matrix, classification_report,ConfusionMatrixDisplay"
   ]
  },
  {
   "cell_type": "markdown",
   "metadata": {},
   "source": [
    "- review_title과 review_text 칼럼을 하나의 칼럼으로 합친 후 TF_IDF 백터화 진행\n",
    "- TF-IDF 벡터화는 문자열 리스트를 학습을 위해 벡터로 바꿔주는 작업\n",
    "- 로지스틱 회귀 모델 학습 및 평가를 위해 데이터셋 분할\n",
    "- 학습 데이터와 평가 데이터는 8:2 비율로 분할"
   ]
  },
  {
   "cell_type": "code",
   "execution_count": 115,
   "metadata": {},
   "outputs": [],
   "source": [
    "# y값 지정\n",
    "y = df[\"label\"]\n",
    "\n",
    "# 제목과 리뷰 내용을 합치기\n",
    "df[\"total\"] = df[\"review_title\"] + \" \" + df[\"review_text\"]\n",
    "\n",
    "# TF-IDF 백터화\n",
    "vectorizer = TfidfVectorizer(max_features=1000)\n",
    "X = vectorizer.fit_transform(df[\"total\"])\n",
    "\n",
    "# 학습 데이터와 테스트 데이터로 8:2 분할\n",
    "X_train, X_test, y_train, y_test = train_test_split(X, y, test_size=0.2, random_state=42)"
   ]
  },
  {
   "cell_type": "markdown",
   "metadata": {},
   "source": [
    "- 로지스틱 회귀 모델 사용\n",
    "- 하이퍼마라미터 튜닝 기법으로 그리드 서치 사용\n",
    "- C와 max_iter에 대한 하이퍼파라미터 튜닝 진행\n",
    "- 교차 검증을 위한 fold 횟수는 5회로 지정"
   ]
  },
  {
   "cell_type": "code",
   "execution_count": 116,
   "metadata": {},
   "outputs": [
    {
     "name": "stdout",
     "output_type": "stream",
     "text": [
      "최적 파라미터: {'C': 10, 'max_iter': 100}\n",
      "테스트 정확도: 0.9397136397889977\n"
     ]
    }
   ],
   "source": [
    "# 로지스틱 회귀 모델 초기화\n",
    "model = LogisticRegression()\n",
    "\n",
    "# 하이퍼파라미터 그리드 설정\n",
    "param_grid = {\n",
    "    \"C\": [0.001, 0.01, 0.1, 1, 10, 100],\n",
    "    \"max_iter\": [100, 1000]\n",
    "}\n",
    "\n",
    "# 그리드 서치 객체 생성 (모델, 하이퍼파라미터, 교차 검증 횟수, 성능 평가 지표 설정)\n",
    "grid_search = GridSearchCV(model, param_grid, cv=5, scoring=\"accuracy\")\n",
    "\n",
    "# 그리드 서치 실행 (훈련 데이터에 맞추어 모델 학습)\n",
    "grid_search.fit(X_train, y_train)\n",
    "\n",
    "# 최적 하이퍼파라미터와 테스트 정확도 출력\n",
    "print(\"최적 파라미터:\", grid_search.best_params_)\n",
    "print(\"테스트 정확도:\", grid_search.score(X_test, y_test))"
   ]
  },
  {
   "cell_type": "markdown",
   "metadata": {},
   "source": [
    "- 그리드 서치를 통해 알아낸 최적의 하이퍼파라미터 값은 C가 10, max_iter가 100\n",
    "- 최적의 하이퍼파라미터 값으로 모델 학습"
   ]
  },
  {
   "cell_type": "code",
   "execution_count": 117,
   "metadata": {},
   "outputs": [],
   "source": [
    "# 그리드 서치를 통해 찾은 최적의 모델\n",
    "best_model = grid_search.best_estimator_\n",
    "\n",
    "# 훈련 데이터를 사용하여 최적 모델 학습\n",
    "best_model.fit(X_train, y_train)\n",
    "\n",
    "# 테스트 데이터에 대한 예측값 생성\n",
    "y_pred = best_model.predict(X_test)"
   ]
  },
  {
   "cell_type": "markdown",
   "metadata": {},
   "source": [
    "5.모델 평가"
   ]
  },
  {
   "cell_type": "code",
   "execution_count": 121,
   "metadata": {},
   "outputs": [
    {
     "name": "stdout",
     "output_type": "stream",
     "text": [
      "정확도: 0.93971\n",
      "정밀도: 0.93817\n",
      "재현율: 0.93971\n",
      "F1-점수: 0.93455\n",
      "ROC-AUC: 0.80030\n",
      "              precision    recall  f1-score   support\n",
      "\n",
      "           0       0.91      0.61      0.73       177\n",
      "           1       0.94      0.99      0.97      1150\n",
      "\n",
      "    accuracy                           0.94      1327\n",
      "   macro avg       0.93      0.80      0.85      1327\n",
      "weighted avg       0.94      0.94      0.93      1327\n",
      "\n"
     ]
    }
   ],
   "source": [
    "# 정확도 평가\n",
    "print(f\"정확도: {accuracy_score(y_test, y_pred):.5f}\")\n",
    "\n",
    "# 정밀도 평가\n",
    "print(f\"정밀도: {precision_score(y_test, y_pred, average='weighted'):.5f}\")\n",
    "\n",
    "# 재현율 평가\n",
    "print(f\"재현율: {recall_score(y_test, y_pred, average='weighted'):.5f}\")\n",
    "\n",
    "# F1 점수 평가\n",
    "print(f\"F1-점수: {f1_score(y_test, y_pred, average='weighted'):.5f}\")\n",
    "\n",
    "# ROC-AUC 점수\n",
    "print(f\"ROC-AUC: {roc_auc_score(y_test, y_pred):.5f}\")\n",
    "\n",
    "# 모델 성능 평가\n",
    "print(classification_report(y_test, y_pred))"
   ]
  },
  {
   "cell_type": "markdown",
   "metadata": {},
   "source": [
    "6.시각화"
   ]
  },
  {
   "cell_type": "code",
   "execution_count": 126,
   "metadata": {},
   "outputs": [
    {
     "data": {
      "image/png": "[encoded data removed]",
      "text/plain": [
       "<Figure size 800x800 with 2 Axes>"
      ]
     },
     "metadata": {},
     "output_type": "display_data"
    }
   ],
   "source": [
    "# 혼동 행렬 생성\n",
    "conf_matrix = confusion_matrix(y_test, y_pred, labels = None, sample_weight = None, normalize = 'true')\n",
    "\n",
    "# 혼동 행렬 시각화\n",
    "plt.figure(figsize = (8, 8))\n",
    "sns.heatmap(conf_matrix, annot = True, cmap = 'Blues')\n",
    "\n",
    "# tittle 설정\n",
    "plt.title('Confusion Matrix')\n",
    "\n",
    "# x축 라벨 설정\n",
    "plt.xlabel('Predicted')\n",
    "\n",
    "# y축 라벨 설정\n",
    "plt.ylabel('True')\n",
    "\n",
    "plt.show()"
   ]
  },
  {
   "cell_type": "markdown",
   "metadata": {},
   "source": [
    "roc"
   ]
  },
  {
   "cell_type": "code",
   "execution_count": 127,
   "metadata": {},
   "outputs": [
    {
     "data": {
      "image/png": "[encoded data removed]",
      "text/plain": [
       "<Figure size 800x600 with 1 Axes>"
      ]
     },
     "metadata": {},
     "output_type": "display_data"
    }
   ],
   "source": [
    "# ROC 곡선 계산\n",
    "fpr, tpr, thresholds = roc_curve(y_test, y_pred)\n",
    "\n",
    "# ROC 곡선 아래 면적 계산\n",
    "roc_auc = auc(fpr, tpr)\n",
    "\n",
    "plt.figure(figsize=(8, 6))\n",
    "\n",
    "# x축은 fpr, y축은 tpr인 그래프 생성, 라벨로 roc_auc (면적의 넓이) 표시\n",
    "plt.plot(fpr, tpr, color=\"orange\", label=f\"ROC curve (area: {roc_auc:.2f})\")\n",
    "\n",
    "# 기준선 출력 (y=x 그래프)\n",
    "plt.plot([0, 1], [0, 1], color=\"blue\", linestyle=\"--\") \n",
    "\n",
    "# tittle 설정\n",
    "plt.title('ROC Curve', fontsize=15)\n",
    "\n",
    "# 범례 설정\n",
    "plt.legend(loc='lower right')\n",
    "\n",
    "# x축 라벨 설정\n",
    "plt.xlabel(\"False Positive Rate\")\n",
    "\n",
    "# y축 라벨 설정\n",
    "plt.ylabel(\"True Positive Rate\")\n",
    "\n",
    "plt.show()"
   ]
  },
  {
   "cell_type": "code",
   "execution_count": null,
   "metadata": {},
   "outputs": [],
   "source": [
    "7.마무리"
   ]
  }
 ],
 "metadata": {
  "kernelspec": {
   "display_name": "base",
   "language": "python",
   "name": "python3"
  },
  "language_info": {
   "codemirror_mode": {
    "name": "ipython",
    "version": 3
   },
   "file_extension": ".py",
   "mimetype": "text/x-python",
   "name": "python",
   "nbconvert_exporter": "python",
   "pygments_lexer": "ipython3",
   "version": "3.10.9"
  }
 },
 "nbformat": 4,
 "nbformat_minor": 2
}
