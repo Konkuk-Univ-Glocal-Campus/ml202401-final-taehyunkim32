{
 "cells": [
  {
   "cell_type": "markdown",
   "metadata": {},
   "source": [
    "프로젝트 설명 및 기본 설정"
   ]
  },
  {
   "cell_type": "code",
   "execution_count": 70,
   "metadata": {},
   "outputs": [
    {
     "name": "stdout",
     "output_type": "stream",
     "text": [
      "c:\\Users\\taehyun\\github-classroom\\Konkuk-Univ-Glocal-Campus\\ml202401-final-taehyunkim32\n"
     ]
    }
   ],
   "source": [
    "import os\n",
    "import matplotlib.pyplot as plt\n",
    "import pandas as pd\n",
    "import seaborn as sns\n",
    "\n",
    "# 경고 메시지 무시\n",
    "import warnings\n",
    "warnings.filterwarnings(\"ignore\")\n",
    "\n",
    "# 한글 폰트 설정\n",
    "import matplotlib.font_manager as fm\n",
    "font_path = './fonts/NanumGothic.ttf'\n",
    "fm.fontManager.addfont(font_path)\n",
    "plt.rcParams['font.family'] = 'NanumGothic'\n",
    "\n",
    "# 현재 작업 경로 확인\n",
    "current_directory = os.getcwd()\n",
    "print(current_directory)"
   ]
  },
  {
   "cell_type": "markdown",
   "metadata": {},
   "source": [
    "1. 데이터 읽고 데이터 구조 확인"
   ]
  },
  {
   "cell_type": "code",
   "execution_count": 71,
   "metadata": {},
   "outputs": [
    {
     "name": "stdout",
     "output_type": "stream",
     "text": [
      "* 총 리뷰 개수: 6823 *\n",
      "<class 'pandas.core.frame.DataFrame'>\n",
      "RangeIndex: 6823 entries, 0 to 6822\n",
      "Data columns (total 11 columns):\n",
      " #   Column             Non-Null Count  Dtype  \n",
      "---  ------             --------------  -----  \n",
      " 0   url                6823 non-null   object \n",
      " 1   product_name       6823 non-null   object \n",
      " 2   reviewer_name      6823 non-null   object \n",
      " 3   review_title       6822 non-null   object \n",
      " 4   review_text        6814 non-null   object \n",
      " 5   review_rating      6823 non-null   float64\n",
      " 6   verified_purchase  6823 non-null   bool   \n",
      " 7   review_date        6823 non-null   object \n",
      " 8   helpful_count      1953 non-null   object \n",
      " 9   uniq_id            6823 non-null   object \n",
      " 10  scraped_at         6823 non-null   object \n",
      "dtypes: bool(1), float64(1), object(9)\n",
      "memory usage: 539.8+ KB\n",
      "None\n"
     ]
    }
   ],
   "source": [
    "raw_df = pd.read_csv(\"./amazon_uk_shoes_products_dataset_2021_12.csv\")\n",
    "print(f\"* 총 리뷰 개수: {raw_df.shape[0]} *\")\n",
    "print(raw_df.info())"
   ]
  },
  {
   "cell_type": "markdown",
   "metadata": {},
   "source": [
    "실제데이터를 확인"
   ]
  },
  {
   "cell_type": "code",
   "execution_count": 72,
   "metadata": {},
   "outputs": [
    {
     "name": "stdout",
     "output_type": "stream",
     "text": [
      "url : https://www.amazon.co.uk/dp/B07SBX32T5\n",
      "product_name : Klasified Women's Transparent Clear Sneaker Shoe, White, 5.5 UK\n",
      "reviewer_name : Jocelyn McSayles\n",
      "review_title : Love em\n",
      "review_text : Love these. Was looking for converses and these were half the price and so unique— I’ve never seen clear shoes like these; they fit great. The plastic takes a little getting used to but the style is so worth it.\n",
      "review_rating : 5.0\n",
      "verified_purchase : True\n",
      "review_date : Reviewed in the United States on 2 June 2020\n",
      "helpful_count : 2 people found this helpful\n",
      "uniq_id : 36eae4e5-2894-5279-a0b7-d2b330e2b814\n",
      "scraped_at : 24/12/2021 02:26:25\n"
     ]
    }
   ],
   "source": [
    "# 첫 번째 행의 열 이름과 값을 출력\n",
    "for column in raw_df.columns:\n",
    "    print(f\"{column} : {raw_df.iloc[0][column]}\")"
   ]
  },
  {
   "cell_type": "markdown",
   "metadata": {},
   "source": [
    "2.데이터 전처리\n",
    "1)중복데이터 제거\n",
    "2)주요 특성 설정\n",
    "3)결측치 제거\n",
    "4)노이즈 제거\n",
    "5)토큰화\n",
    "6)표제어 추출"
   ]
  },
  {
   "cell_type": "markdown",
   "metadata": {},
   "source": [
    "1)중복 데이터 확인 및 제거\n",
    "68~~개였는데 중복된 행의 개수가 364\n",
    "예시 뭐시기"
   ]
  },
  {
   "cell_type": "code",
   "execution_count": 73,
   "metadata": {},
   "outputs": [
    {
     "name": "stdout",
     "output_type": "stream",
     "text": [
      "중복된 행의 개수: 364\n",
      "중복된 uniq_id: d1871977-2e70-5d3d-bcb9-888819c4d0d6\n"
     ]
    },
    {
     "data": {
      "text/html": [
       "<div>\n",
       "<style scoped>\n",
       "    .dataframe tbody tr th:only-of-type {\n",
       "        vertical-align: middle;\n",
       "    }\n",
       "\n",
       "    .dataframe tbody tr th {\n",
       "        vertical-align: top;\n",
       "    }\n",
       "\n",
       "    .dataframe thead th {\n",
       "        text-align: right;\n",
       "    }\n",
       "</style>\n",
       "<table border=\"1\" class=\"dataframe\">\n",
       "  <thead>\n",
       "    <tr style=\"text-align: right;\">\n",
       "      <th></th>\n",
       "      <th>review_title</th>\n",
       "      <th>review_text</th>\n",
       "      <th>review_rating</th>\n",
       "      <th>uniq_id</th>\n",
       "    </tr>\n",
       "  </thead>\n",
       "  <tbody>\n",
       "    <tr>\n",
       "      <th>1002</th>\n",
       "      <td>Per ben due volte taglia errata</td>\n",
       "      <td>Per ben due volte ho dovuto restituire l'artic...</td>\n",
       "      <td>1.0</td>\n",
       "      <td>d1871977-2e70-5d3d-bcb9-888819c4d0d6</td>\n",
       "    </tr>\n",
       "    <tr>\n",
       "      <th>1828</th>\n",
       "      <td>Per ben due volte taglia errata</td>\n",
       "      <td>Per ben due volte ho dovuto restituire l'artic...</td>\n",
       "      <td>1.0</td>\n",
       "      <td>d1871977-2e70-5d3d-bcb9-888819c4d0d6</td>\n",
       "    </tr>\n",
       "  </tbody>\n",
       "</table>\n",
       "</div>"
      ],
      "text/plain": [
       "                         review_title  \\\n",
       "1002  Per ben due volte taglia errata   \n",
       "1828  Per ben due volte taglia errata   \n",
       "\n",
       "                                            review_text  review_rating  \\\n",
       "1002  Per ben due volte ho dovuto restituire l'artic...            1.0   \n",
       "1828  Per ben due volte ho dovuto restituire l'artic...            1.0   \n",
       "\n",
       "                                   uniq_id  \n",
       "1002  d1871977-2e70-5d3d-bcb9-888819c4d0d6  \n",
       "1828  d1871977-2e70-5d3d-bcb9-888819c4d0d6  "
      ]
     },
     "execution_count": 73,
     "metadata": {},
     "output_type": "execute_result"
    }
   ],
   "source": [
    "# uniq_id 열을 기준으로 중복된 행 확인\n",
    "dup = raw_df.duplicated(subset=['uniq_id'], keep=False)\n",
    "\n",
    "# 중복된 행의 개수\n",
    "count_dup = dup.sum()\n",
    "print(f\"중복된 행의 개수: {count_dup}\")\n",
    "\n",
    "# 중복된 uniq_id 예시 추출\n",
    "dup_uniq_id = raw_df['uniq_id'][raw_df['uniq_id'].duplicated()].iloc[0]\n",
    "\n",
    "# 중복된 uniq_id 출력\n",
    "print(f\"중복된 uniq_id: {dup_uniq_id}\")\n",
    "\n",
    "# 중복 리뷰 케이스 확인\n",
    "selected_columns = ['review_title', 'review_text', 'review_rating', 'uniq_id']\n",
    "filtered_rows = raw_df[raw_df['uniq_id'] == dup_uniq_id][selected_columns]\n",
    "\n",
    "# 결과 출력\n",
    "filtered_rows"
   ]
  },
  {
   "cell_type": "markdown",
   "metadata": {},
   "source": [
    "원본 데이터: 6823\n",
    "중복 데이터: 364\n",
    "중복 데이터를 제외한 데이터: 6823 - (364 / 2) = 6641"
   ]
  },
  {
   "cell_type": "code",
   "execution_count": 74,
   "metadata": {},
   "outputs": [
    {
     "name": "stdout",
     "output_type": "stream",
     "text": [
      "중복 데이터를 제외한 행의 개수: 6641\n"
     ]
    }
   ],
   "source": [
    "# uniq_id 열을 기준으로 중복된 행 제거\n",
    "df_unique = raw_df.drop_duplicates(subset=['uniq_id'], keep='first')\n",
    "\n",
    "# 중복이 제거된 총 리뷰의 개수\n",
    "count_unique = len(df_unique)\n",
    "print(f\"중복 데이터를 제외한 행의 개수: {count_unique}\")"
   ]
  },
  {
   "cell_type": "markdown",
   "metadata": {},
   "source": [
    "2)주요 특성 설정\n",
    "`review_title`, `review_text`, `review_rating` 3가지 칼럼을 주요 특성으로 사용"
   ]
  },
  {
   "cell_type": "code",
   "execution_count": 75,
   "metadata": {},
   "outputs": [
    {
     "data": {
      "text/html": [
       "<div>\n",
       "<style scoped>\n",
       "    .dataframe tbody tr th:only-of-type {\n",
       "        vertical-align: middle;\n",
       "    }\n",
       "\n",
       "    .dataframe tbody tr th {\n",
       "        vertical-align: top;\n",
       "    }\n",
       "\n",
       "    .dataframe thead th {\n",
       "        text-align: right;\n",
       "    }\n",
       "</style>\n",
       "<table border=\"1\" class=\"dataframe\">\n",
       "  <thead>\n",
       "    <tr style=\"text-align: right;\">\n",
       "      <th></th>\n",
       "      <th>review_title</th>\n",
       "      <th>review_text</th>\n",
       "      <th>review_rating</th>\n",
       "    </tr>\n",
       "  </thead>\n",
       "  <tbody>\n",
       "    <tr>\n",
       "      <th>0</th>\n",
       "      <td>Love em</td>\n",
       "      <td>Love these. Was looking for converses and thes...</td>\n",
       "      <td>5.0</td>\n",
       "    </tr>\n",
       "    <tr>\n",
       "      <th>1</th>\n",
       "      <td>The plastic ripped</td>\n",
       "      <td>The shoes are very cute, but after the 2nd day...</td>\n",
       "      <td>2.0</td>\n",
       "    </tr>\n",
       "    <tr>\n",
       "      <th>2</th>\n",
       "      <td>Good quality</td>\n",
       "      <td>Good quality</td>\n",
       "      <td>5.0</td>\n",
       "    </tr>\n",
       "    <tr>\n",
       "      <th>3</th>\n",
       "      <td>Good</td>\n",
       "      <td>Great</td>\n",
       "      <td>5.0</td>\n",
       "    </tr>\n",
       "    <tr>\n",
       "      <th>4</th>\n",
       "      <td>PERFETTE!!</td>\n",
       "      <td>Ho scelto il modello bianco con rifinitura die...</td>\n",
       "      <td>5.0</td>\n",
       "    </tr>\n",
       "  </tbody>\n",
       "</table>\n",
       "</div>"
      ],
      "text/plain": [
       "         review_title                                        review_text  \\\n",
       "0             Love em  Love these. Was looking for converses and thes...   \n",
       "1  The plastic ripped  The shoes are very cute, but after the 2nd day...   \n",
       "2        Good quality                                       Good quality   \n",
       "3                Good                                              Great   \n",
       "4          PERFETTE!!  Ho scelto il modello bianco con rifinitura die...   \n",
       "\n",
       "   review_rating  \n",
       "0            5.0  \n",
       "1            2.0  \n",
       "2            5.0  \n",
       "3            5.0  \n",
       "4            5.0  "
      ]
     },
     "execution_count": 75,
     "metadata": {},
     "output_type": "execute_result"
    }
   ],
   "source": [
    "# 사용할 columns 선택\n",
    "df_selected = df_unique[[\"review_title\", \"review_text\", \"review_rating\"]]\n",
    "df_selected.head(5)"
   ]
  },
  {
   "cell_type": "markdown",
   "metadata": {},
   "source": [
    "2)결측치 확인 및 제거"
   ]
  },
  {
   "cell_type": "code",
   "execution_count": 76,
   "metadata": {},
   "outputs": [
    {
     "name": "stdout",
     "output_type": "stream",
     "text": [
      "제목 결측치 개수: 1\n",
      "리뷰 결측치 개수: 8\n",
      "레이팅 결측치 개수: 0\n"
     ]
    }
   ],
   "source": [
    "print(f\"제목 결측치 개수: {df_selected['review_title'].isnull().sum()}\")\n",
    "print(f\"리뷰 결측치 개수: {df_selected['review_text'].isnull().sum()}\")\n",
    "print(f\"레이팅 결측치 개수: {df_selected['review_rating'].isnull().sum()}\")"
   ]
  },
  {
   "cell_type": "markdown",
   "metadata": {},
   "source": [
    "제목, 리뷰에 결측치가 존재하는 행은 제거\n",
    "중복 데이터를 제외한 데이터: 6823\n",
    "결측치가 존재하는 데이터 : 1 + 8 = 9\n",
    "결측치를 제외한 데이터: 6823 - (364 / 2) = 6641"
   ]
  },
  {
   "cell_type": "code",
   "execution_count": 78,
   "metadata": {},
   "outputs": [
    {
     "name": "stdout",
     "output_type": "stream",
     "text": [
      "결측치를 제외한 행의 개수: 6632\n"
     ]
    },
    {
     "data": {
      "text/html": [
       "<div>\n",
       "<style scoped>\n",
       "    .dataframe tbody tr th:only-of-type {\n",
       "        vertical-align: middle;\n",
       "    }\n",
       "\n",
       "    .dataframe tbody tr th {\n",
       "        vertical-align: top;\n",
       "    }\n",
       "\n",
       "    .dataframe thead th {\n",
       "        text-align: right;\n",
       "    }\n",
       "</style>\n",
       "<table border=\"1\" class=\"dataframe\">\n",
       "  <thead>\n",
       "    <tr style=\"text-align: right;\">\n",
       "      <th></th>\n",
       "      <th>review_title</th>\n",
       "      <th>review_text</th>\n",
       "      <th>review_rating</th>\n",
       "    </tr>\n",
       "  </thead>\n",
       "  <tbody>\n",
       "    <tr>\n",
       "      <th>0</th>\n",
       "      <td>Love em</td>\n",
       "      <td>Love these. Was looking for converses and thes...</td>\n",
       "      <td>5.0</td>\n",
       "    </tr>\n",
       "    <tr>\n",
       "      <th>1</th>\n",
       "      <td>The plastic ripped</td>\n",
       "      <td>The shoes are very cute, but after the 2nd day...</td>\n",
       "      <td>2.0</td>\n",
       "    </tr>\n",
       "    <tr>\n",
       "      <th>2</th>\n",
       "      <td>Good quality</td>\n",
       "      <td>Good quality</td>\n",
       "      <td>5.0</td>\n",
       "    </tr>\n",
       "    <tr>\n",
       "      <th>3</th>\n",
       "      <td>Good</td>\n",
       "      <td>Great</td>\n",
       "      <td>5.0</td>\n",
       "    </tr>\n",
       "    <tr>\n",
       "      <th>4</th>\n",
       "      <td>PERFETTE!!</td>\n",
       "      <td>Ho scelto il modello bianco con rifinitura die...</td>\n",
       "      <td>5.0</td>\n",
       "    </tr>\n",
       "  </tbody>\n",
       "</table>\n",
       "</div>"
      ],
      "text/plain": [
       "         review_title                                        review_text  \\\n",
       "0             Love em  Love these. Was looking for converses and thes...   \n",
       "1  The plastic ripped  The shoes are very cute, but after the 2nd day...   \n",
       "2        Good quality                                       Good quality   \n",
       "3                Good                                              Great   \n",
       "4          PERFETTE!!  Ho scelto il modello bianco con rifinitura die...   \n",
       "\n",
       "   review_rating  \n",
       "0            5.0  \n",
       "1            2.0  \n",
       "2            5.0  \n",
       "3            5.0  \n",
       "4            5.0  "
      ]
     },
     "execution_count": 78,
     "metadata": {},
     "output_type": "execute_result"
    }
   ],
   "source": [
    "df_cleaned = df_selected.dropna(subset=[\"review_text\", \"review_title\"])\n",
    "\n",
    "# 결측치가 제거된 총 리뷰의 개수\n",
    "count_cleand = len(df_cleaned)\n",
    "print(f\"결측치를 제외한 행의 개수: {count_cleand}\")"
   ]
  },
  {
   "cell_type": "markdown",
   "metadata": {},
   "source": []
  },
  {
   "cell_type": "code",
   "execution_count": 82,
   "metadata": {},
   "outputs": [
    {
     "name": "stderr",
     "output_type": "stream",
     "text": [
      "[nltk_data] Downloading package punkt to\n",
      "[nltk_data]     C:\\Users\\taehyun\\AppData\\Roaming\\nltk_data...\n",
      "[nltk_data]   Package punkt is already up-to-date!\n",
      "[nltk_data] Downloading package stopwords to\n",
      "[nltk_data]     C:\\Users\\taehyun\\AppData\\Roaming\\nltk_data...\n",
      "[nltk_data]   Package stopwords is already up-to-date!\n",
      "[nltk_data] Downloading package wordnet to\n",
      "[nltk_data]     C:\\Users\\taehyun\\AppData\\Roaming\\nltk_data...\n",
      "[nltk_data]   Package wordnet is already up-to-date!\n",
      "[nltk_data] Downloading package omw-1.4 to\n",
      "[nltk_data]     C:\\Users\\taehyun\\AppData\\Roaming\\nltk_data...\n"
     ]
    },
    {
     "data": {
      "text/html": [
       "<div>\n",
       "<style scoped>\n",
       "    .dataframe tbody tr th:only-of-type {\n",
       "        vertical-align: middle;\n",
       "    }\n",
       "\n",
       "    .dataframe tbody tr th {\n",
       "        vertical-align: top;\n",
       "    }\n",
       "\n",
       "    .dataframe thead th {\n",
       "        text-align: right;\n",
       "    }\n",
       "</style>\n",
       "<table border=\"1\" class=\"dataframe\">\n",
       "  <thead>\n",
       "    <tr style=\"text-align: right;\">\n",
       "      <th></th>\n",
       "      <th>review_title</th>\n",
       "      <th>review_text</th>\n",
       "      <th>review_rating</th>\n",
       "    </tr>\n",
       "  </thead>\n",
       "  <tbody>\n",
       "    <tr>\n",
       "      <th>0</th>\n",
       "      <td>love em</td>\n",
       "      <td>love looking converse half price unique ive ne...</td>\n",
       "      <td>5.0</td>\n",
       "    </tr>\n",
       "    <tr>\n",
       "      <th>1</th>\n",
       "      <td>plastic ripped</td>\n",
       "      <td>shoe cute nd day wearing tongue started rippin...</td>\n",
       "      <td>2.0</td>\n",
       "    </tr>\n",
       "    <tr>\n",
       "      <th>2</th>\n",
       "      <td>good quality</td>\n",
       "      <td>good quality</td>\n",
       "      <td>5.0</td>\n",
       "    </tr>\n",
       "    <tr>\n",
       "      <th>3</th>\n",
       "      <td>good</td>\n",
       "      <td>great</td>\n",
       "      <td>5.0</td>\n",
       "    </tr>\n",
       "    <tr>\n",
       "      <th>4</th>\n",
       "      <td>perfette</td>\n",
       "      <td>ho scelto il modello bianco con rifinitura die...</td>\n",
       "      <td>5.0</td>\n",
       "    </tr>\n",
       "    <tr>\n",
       "      <th>5</th>\n",
       "      <td>delusione</td>\n",
       "      <td>sono solita comprare scarpe guess e non ho mai...</td>\n",
       "      <td>1.0</td>\n",
       "    </tr>\n",
       "    <tr>\n",
       "      <th>6</th>\n",
       "      <td>molto belle</td>\n",
       "      <td>le scarpe sono molto belle calzano perfettamente</td>\n",
       "      <td>5.0</td>\n",
       "    </tr>\n",
       "    <tr>\n",
       "      <th>7</th>\n",
       "      <td>molto carine e comode</td>\n",
       "      <td>semplicemente perfette io uso plantari su misu...</td>\n",
       "      <td>5.0</td>\n",
       "    </tr>\n",
       "    <tr>\n",
       "      <th>8</th>\n",
       "      <td>bellissimepeccato per il numero</td>\n",
       "      <td>le scarpe sono bellissime arrivate perfetto st...</td>\n",
       "      <td>5.0</td>\n",
       "    </tr>\n",
       "    <tr>\n",
       "      <th>9</th>\n",
       "      <td>scarpe ben realizzate venditore ottimo</td>\n",
       "      <td>le scarpe sono ben fatte e il venditore molto ...</td>\n",
       "      <td>5.0</td>\n",
       "    </tr>\n",
       "  </tbody>\n",
       "</table>\n",
       "</div>"
      ],
      "text/plain": [
       "                             review_title  \\\n",
       "0                                 love em   \n",
       "1                          plastic ripped   \n",
       "2                            good quality   \n",
       "3                                    good   \n",
       "4                                perfette   \n",
       "5                               delusione   \n",
       "6                             molto belle   \n",
       "7                   molto carine e comode   \n",
       "8         bellissimepeccato per il numero   \n",
       "9  scarpe ben realizzate venditore ottimo   \n",
       "\n",
       "                                         review_text  review_rating  \n",
       "0  love looking converse half price unique ive ne...            5.0  \n",
       "1  shoe cute nd day wearing tongue started rippin...            2.0  \n",
       "2                                       good quality            5.0  \n",
       "3                                              great            5.0  \n",
       "4  ho scelto il modello bianco con rifinitura die...            5.0  \n",
       "5  sono solita comprare scarpe guess e non ho mai...            1.0  \n",
       "6   le scarpe sono molto belle calzano perfettamente            5.0  \n",
       "7  semplicemente perfette io uso plantari su misu...            5.0  \n",
       "8  le scarpe sono bellissime arrivate perfetto st...            5.0  \n",
       "9  le scarpe sono ben fatte e il venditore molto ...            5.0  "
      ]
     },
     "execution_count": 82,
     "metadata": {},
     "output_type": "execute_result"
    }
   ],
   "source": [
    "import re\n",
    "from nltk.tokenize import word_tokenize\n",
    "from nltk.corpus import stopwords\n",
    "from nltk.stem import WordNetLemmatizer\n",
    "import nltk\n",
    "\n",
    "# 필요한 NLTK 데이터 다운로드\n",
    "nltk.download('punkt')\n",
    "nltk.download('stopwords')\n",
    "nltk.download('wordnet')\n",
    "nltk.download('omw-1.4')\n",
    "\n",
    "# 전처리 함수 선언\n",
    "def data_preprocessing(contents):\n",
    "    # 노이즈 제거 (소문자로 변환, 숫자 제거, 다중 공백 제거, 특수 문자 제거)\n",
    "    contents = re.sub(r'[^\\w\\s]', '', re.sub(r'\\s+', ' ', re.sub(r'\\d+', '', contents.lower())))\n",
    "\n",
    "    # 토큰화\n",
    "    tokens = word_tokenize(contents)\n",
    "    \n",
    "    # 불용어 제거\n",
    "    stopword = [word for word in tokens if word not in stopwords.words(\"english\")]\n",
    "    \n",
    "    # 표제어 추출\n",
    "    lemmatizer = WordNetLemmatizer()\n",
    "    tokens = [lemmatizer.lemmatize(word) for word in stopword]\n",
    "    \n",
    "    return ' '.join(tokens)\n",
    "\n",
    "# 텍스트 전처리\n",
    "df_cleaned[\"review_text\"] = df_cleaned[\"review_text\"].apply(data_preprocessing)\n",
    "df_cleaned[\"review_title\"] = df_cleaned[\"review_title\"].apply(data_preprocessing)\n",
    "\n",
    "# 전처리 완료\n",
    "df = df_cleaned\n",
    "\n",
    "df.head(10)"
   ]
  },
  {
   "cell_type": "markdown",
   "metadata": {},
   "source": []
  },
  {
   "cell_type": "code",
   "execution_count": null,
   "metadata": {},
   "outputs": [],
   "source": []
  }
 ],
 "metadata": {
  "kernelspec": {
   "display_name": "base",
   "language": "python",
   "name": "python3"
  },
  "language_info": {
   "codemirror_mode": {
    "name": "ipython",
    "version": 3
   },
   "file_extension": ".py",
   "mimetype": "text/x-python",
   "name": "python",
   "nbconvert_exporter": "python",
   "pygments_lexer": "ipython3",
   "version": "3.10.9"
  }
 },
 "nbformat": 4,
 "nbformat_minor": 2
}
